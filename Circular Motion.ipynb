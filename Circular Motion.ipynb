{
 "cells": [
  {
   "cell_type": "code",
   "execution_count": null,
   "metadata": {},
   "outputs": [],
   "source": [
    "import math\n",
    "theta = math.radians(0)\n",
    "n = 100000\n",
    "r = 1\n",
    "v_s = 1\n",
    "m = 1\n",
    "g = 10\n",
    "E_t = (0.5*m*v_s**2)+m*g*r*(1+math.sin(theta))\n",
    "theta_i = theta - 2*math.pi/n\n",
    "theta_f = theta + 2*math.pi/n\n",
    "v_i = math.sqrt(2*(E_t-m*g*r*(1+math.sin(theta_i)))/m)\n",
    "v_f = math.sqrt(2*(E_t-m*g*r*(1+math.sin(theta_f)))/m)\n",
    "v_xf = -v_f*math.sin(theta_f)\n",
    "v_yf = v_f*math.cos(theta_f)\n",
    "v_xi = -v_i*math.sin(theta_i)\n",
    "v_yi = v_i*math.cos(theta_i)\n",
    "v_av =(v_i + v_f)/2\n",
    "delta_t=(4*math.pi/n)*r/v_av\n",
    "f_x = (v_xf-v_xi)/delta_t\n",
    "f_y = (v_yf-v_yi)/delta_t\n",
    "print(f\"F_t = {f_x}i + {f_y}j\")\n",
    "print(f\"F_c = {f_x}i + {f_y+10}j\")"
   ]
  },
  {
   "cell_type": "code",
   "execution_count": null,
   "metadata": {},
   "outputs": [],
   "source": [
    "try:\n",
    "    theta_t = math.degrees(math.atan2(f_y,f_x))\n",
    "    theta_c = math.degrees(math.atan2((f_y+10),f_x))\n",
    "    print(f\"direction of the total froce = {theta_t}\")\n",
    "    print(f\"direction of the centrepiatl froce = {theta_c}\")\n",
    "except ZeroDivisionError:\n",
    "    print(\"direction of the centrepiatl froce = 90\")"
   ]
  }
 ],
 "metadata": {
  "kernelspec": {
   "display_name": "Python 3",
   "language": "python",
   "name": "python3"
  },
  "language_info": {
   "codemirror_mode": {
    "name": "ipython",
    "version": 3
   },
   "file_extension": ".py",
   "mimetype": "text/x-python",
   "name": "python",
   "nbconvert_exporter": "python",
   "pygments_lexer": "ipython3",
   "version": "3.7.3"
  }
 },
 "nbformat": 4,
 "nbformat_minor": 2
}
